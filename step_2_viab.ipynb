{
 "cells": [
  {
   "cell_type": "markdown",
   "metadata": {},
   "source": [
    "<hr style=\"height:1px\">\n",
    "# WorkBook #2\n",
    "## Judging the viability of using *ADDEPEV2* as an indicator of respondents mental health\n",
    "<hr style=\"height:1px\">"
   ]
  },
  {
   "cell_type": "code",
   "execution_count": 1,
   "metadata": {
    "collapsed": true
   },
   "outputs": [],
   "source": [
    "# Importing packages\n",
    "import pandas as pd\n",
    "import numpy as np\n",
    "import matplotlib.pyplot as plt\n",
    "import seaborn as sns\n",
    "\n",
    "%matplotlib inline\n",
    "pd.set_option('notebook_repr_html',False)"
   ]
  },
  {
   "cell_type": "code",
   "execution_count": 2,
   "metadata": {
    "collapsed": true
   },
   "outputs": [],
   "source": [
    "# Read in the SAS format file into a pandas dataframe\n",
    "df = pd.read_sas('LLCP2013.XPT')"
   ]
  },
  {
   "cell_type": "code",
   "execution_count": 3,
   "metadata": {
    "collapsed": false
   },
   "outputs": [
    {
     "data": {
      "text/plain": [
       "(433220, 336)"
      ]
     },
     "execution_count": 3,
     "metadata": {},
     "output_type": "execute_result"
    }
   ],
   "source": [
    "# Use only completed survey records (433220 no of records)\n",
    "df = df[df.DISPCODE == 1100.0]\n",
    "df.shape"
   ]
  },
  {
   "cell_type": "code",
   "execution_count": 4,
   "metadata": {
    "collapsed": true
   },
   "outputs": [],
   "source": [
    "# Define the list of columns that will be included in the study and make a new dataframe \n",
    "# with only those out of 336\n",
    "\n",
    "#cname = ['_STATE', 'GENHLTH', 'PHYSHLTH', 'MENTHLTH', 'SLEPTIM1', \n",
    "#         'BPHIGH4', 'TOLDHI2', 'CVDINFR4', 'CVDCRHD4', 'CVDSTRK3', 'ASTHMA3', 'CHCSCNCR', 'CHCOCNCR',\n",
    "#         'CHCCOPD1', 'HAVARTH3', 'ADDEPEV2', 'CHCKIDNY', 'DIABETE3', \n",
    "#         'MARITAL', 'EMPLOY1', 'CPDEMO1', 'INTERNET', 'SEX', \n",
    "#         'QLACTLM2', 'USEEQUIP', 'BLIND', 'DECIDE', 'DIFFWALK', 'DIFFDRES', 'DIFFALON',\n",
    "#         'USENOW3', '_RACE', '_AGE_G', '_BMI5', '_EDUCAG', '_INCOMG', '_PACAT1', '_SMOKER3', '_RFBING5',\n",
    "#         '_RFDRHV4', '_FRUTSUM', '_VEGESUM']\n",
    "\n",
    "cname = ['ADDEPEV2','MENTHLTH','MISNERVS','MISHOPLS','MISRSTLS','MISDEPRD','MISEFFRT','MISWTLES','MISTMNT','PERSDOC2']\n",
    "\n",
    "data = pd.DataFrame() # New Dataframe with 42 variables \n",
    "for each in df.columns:\n",
    "    if each in cname:\n",
    "        data[each] = df[each]"
   ]
  },
  {
   "cell_type": "code",
   "execution_count": 5,
   "metadata": {
    "collapsed": false
   },
   "outputs": [
    {
     "data": {
      "text/plain": [
       "   MENTHLTH  PERSDOC2  ADDEPEV2  MISNERVS  MISHOPLS  MISRSTLS  MISDEPRD  \\\n",
       "0      29.0       1.0       1.0       NaN       NaN       NaN       NaN   \n",
       "1      88.0       1.0       1.0       NaN       NaN       NaN       NaN   \n",
       "2       2.0       1.0       1.0       NaN       NaN       NaN       NaN   \n",
       "3      88.0       1.0       2.0       NaN       NaN       NaN       NaN   \n",
       "4       2.0       1.0       2.0       NaN       NaN       NaN       NaN   \n",
       "\n",
       "   MISEFFRT  MISWTLES  MISTMNT  \n",
       "0       NaN       NaN      NaN  \n",
       "1       NaN       NaN      NaN  \n",
       "2       NaN       NaN      NaN  \n",
       "3       NaN       NaN      NaN  \n",
       "4       NaN       NaN      NaN  "
      ]
     },
     "execution_count": 5,
     "metadata": {},
     "output_type": "execute_result"
    }
   ],
   "source": [
    "data.head()"
   ]
  },
  {
   "cell_type": "code",
   "execution_count": 6,
   "metadata": {
    "collapsed": true
   },
   "outputs": [],
   "source": [
    "# Define function to remove less useful answers\n",
    "def cleaner(dframe,variable,val1,val2):\n",
    "    dframe = dframe[(dframe[variable] != val1) & (dframe[variable] != val2)]\n",
    "    return dframe\n",
    "\n",
    "data = cleaner(data,'ADDEPEV2',7.,9.)\n",
    "data = cleaner(data,'MENTHLTH',77,99)\n",
    "data = cleaner(data,'PERSDOC2',7.,9.)\n",
    "\n",
    "data.MENTHLTH[data.MENTHLTH == 88] = 0      # Symbolized healthy days by 0\n",
    "data.PERSDOC2[data.PERSDOC2 == 2.] = 1"
   ]
  },
  {
   "cell_type": "code",
   "execution_count": 7,
   "metadata": {
    "collapsed": false
   },
   "outputs": [],
   "source": [
    "# Include only people with personal doctors\n",
    "data = data[data.PERSDOC2 == 1] "
   ]
  },
  {
   "cell_type": "code",
   "execution_count": 8,
   "metadata": {
    "collapsed": true
   },
   "outputs": [],
   "source": [
    "data['ill'] = np.where(data.ADDEPEV2 == 1.0, 1, 0)\n",
    "data['well'] = np.where(data.ADDEPEV2 == 2.0, 1, 0)\n",
    "#data.drop(['ADDEPEV2'],inplace=True,axis=1)"
   ]
  },
  {
   "cell_type": "code",
   "execution_count": 9,
   "metadata": {
    "collapsed": false
   },
   "outputs": [
    {
     "data": {
      "text/plain": [
       "   MENTHLTH  PERSDOC2  ADDEPEV2  MISNERVS  MISHOPLS  MISRSTLS  MISDEPRD  \\\n",
       "0       0.0  250314.0  475129.0   84307.0   91598.0   85305.0   92568.0   \n",
       "1       1.0   11334.0   20281.0    3939.0    4506.0    3977.0    4595.0   \n",
       "2       2.0   17470.0   30111.0    5531.0    6356.0    5586.0    6489.0   \n",
       "3       3.0    9961.0   16562.0    3132.0    3632.0    3213.0    3699.0   \n",
       "4       4.0    4838.0    7859.0    1336.0    1587.0    1380.0    1634.0   \n",
       "\n",
       "   MISEFFRT  MISWTLES  MISTMNT    ill    well  \n",
       "0   87962.0   92347.0  39266.0  25499  224815  \n",
       "1    4250.0    4605.0   1809.0   2387    8947  \n",
       "2    5962.0    6484.0   2545.0   4829   12641  \n",
       "3    3401.0    3715.0   1457.0   3360    6601  \n",
       "4    1451.0    1619.0    625.0   1817    3021  "
      ]
     },
     "execution_count": 9,
     "metadata": {},
     "output_type": "execute_result"
    }
   ],
   "source": [
    "grouped = data.groupby(['MENTHLTH']).sum().reset_index()\n",
    "grouped.head()"
   ]
  },
  {
   "cell_type": "code",
   "execution_count": 10,
   "metadata": {
    "collapsed": false
   },
   "outputs": [],
   "source": [
    "#Compute fraction of respondents with mental illness\n",
    "grouped['ratio'] = grouped.ill/(grouped.well+grouped.ill)"
   ]
  },
  {
   "cell_type": "code",
   "execution_count": 11,
   "metadata": {
    "collapsed": false
   },
   "outputs": [
    {
     "data": {
      "image/png": "[encoded data removed]",
      "text/plain": [
       "<matplotlib.figure.Figure at 0x7f29b169b9d0>"
      ]
     },
     "metadata": {},
     "output_type": "display_data"
    }
   ],
   "source": [
    "plt.scatter(grouped.MENTHLTH,grouped.ratio)\n",
    "\n",
    "plt.xlabel('No of days Respondent felt Unwell',size = 16)\n",
    "plt.ylabel('Fraction unwell',size=16)\n",
    "plt.title('Relation between two measures',size = 20);"
   ]
  },
  {
   "cell_type": "code",
   "execution_count": 12,
   "metadata": {
    "collapsed": false
   },
   "outputs": [
    {
     "name": "stdout",
     "output_type": "stream",
     "text": [
      "MISNERVS\n",
      "MISHOPLS\n"
     ]
    },
    {
     "name": "stderr",
     "output_type": "stream",
     "text": [
      "/home/parama/anaconda2/lib/python2.7/site-packages/ipykernel/__main__.py:13: SettingWithCopyWarning: \n",
      "A value is trying to be set on a copy of a slice from a DataFrame\n",
      "\n",
      "See the caveats in the documentation: http://pandas.pydata.org/pandas-docs/stable/indexing.html#indexing-view-versus-copy\n"
     ]
    },
    {
     "name": "stdout",
     "output_type": "stream",
     "text": [
      "MISRSTLS\n",
      "MISDEPRD\n",
      "MISEFFRT\n",
      "MISWTLES\n"
     ]
    }
   ],
   "source": [
    "# Make a new data column that includes the number of 'Yes' answers \n",
    "# out of 7 Mental Health related questions in Mental Health and Social \n",
    "# Stigma Module\n",
    "# > 3 Yes = Ill\n",
    "# < 3 Yes = Fit and Fine\n",
    "\n",
    "stigma = pd.DataFrame()\n",
    "\n",
    "for each in data[range(3,9)]:\n",
    "    print each\n",
    "    data = cleaner(data,each,7,9)\n",
    "    data[each][(data[each] == 2) | (data[each] == 3)] = 1\n",
    "    data[each][(data[each] == 4) | (data[each] == 5)] = 0 \n",
    "    stigma[each] = data[each]\n",
    "\n",
    "data = cleaner(data,'MISTMNT',7,9)\n",
    "data.MISTMNT[(data.MISTMNT == 2.)] = 0\n",
    "stigma['MISTMNT'] = data.MISTMNT\n",
    "\n",
    "data['total'] = stigma.sum(axis=1)\n",
    "\n",
    "data['ill2'] = np.where(data.total >= 3.0, 1, 0)\n",
    "data['well2'] = np.where(data.total < 3.0, 1, 0)"
   ]
  },
  {
   "cell_type": "code",
   "execution_count": 13,
   "metadata": {
    "collapsed": false
   },
   "outputs": [
    {
     "data": {
      "text/plain": [
       "        MENTHLTH  PERSDOC2  ADDEPEV2  MISNERVS  MISHOPLS  MISRSTLS  MISDEPRD  \\\n",
       "232014      20.0       1.0       1.0       1.0       0.0       0.0       1.0   \n",
       "232015       0.0       1.0       2.0       0.0       0.0       1.0       0.0   \n",
       "232017       0.0       1.0       1.0       0.0       0.0       0.0       0.0   \n",
       "232018       3.0       1.0       2.0       0.0       0.0       0.0       0.0   \n",
       "232022       0.0       1.0       2.0       0.0       0.0       0.0       0.0   \n",
       "\n",
       "        MISEFFRT  MISWTLES  MISTMNT  ill  well  total  ill2  well2  \n",
       "232014       0.0       1.0      1.0    1     0    4.0     1      0  \n",
       "232015       0.0       0.0      0.0    0     1    1.0     0      1  \n",
       "232017       0.0       0.0      1.0    1     0    1.0     0      1  \n",
       "232018       0.0       1.0      0.0    0     1    1.0     0      1  \n",
       "232022       0.0       0.0      0.0    0     1    0.0     0      1  "
      ]
     },
     "execution_count": 13,
     "metadata": {},
     "output_type": "execute_result"
    }
   ],
   "source": [
    "data = data.dropna()\n",
    "data.head()"
   ]
  },
  {
   "cell_type": "code",
   "execution_count": 14,
   "metadata": {
    "collapsed": true
   },
   "outputs": [],
   "source": [
    "grouped = data.groupby(['MENTHLTH']).sum().reset_index()\n",
    "grouped.head()\n",
    "grouped['ratio1'] = grouped.ill/(grouped.well+grouped.ill)\n",
    "grouped['ratio2'] = grouped.ill2/(grouped.well2+grouped.ill2)\n"
   ]
  },
  {
   "cell_type": "code",
   "execution_count": 15,
   "metadata": {
    "collapsed": false
   },
   "outputs": [
    {
     "data": {
      "image/png": "[encoded data removed]",
      "text/plain": [
       "<matplotlib.figure.Figure at 0x7f29ec1dcc50>"
      ]
     },
     "metadata": {},
     "output_type": "display_data"
    }
   ],
   "source": [
    "sns.set(font_scale=1.3)\n",
    "plt.scatter(grouped.MENTHLTH,grouped.ratio1,color='blue')\n",
    "plt.scatter(grouped.MENTHLTH,grouped.ratio2,color='red')\n",
    "plt.plot(grouped.MENTHLTH,grouped.MENTHLTH/grouped.MENTHLTH.max(),color='black')\n",
    "plt.xlabel('No of days Respondent felt Unwell',size = 16)\n",
    "plt.ylabel('Fraction unwell',size=16)\n",
    "plt.title('Relation between two measures',size = 20);"
   ]
  },
  {
   "cell_type": "code",
   "execution_count": 21,
   "metadata": {
    "collapsed": false
   },
   "outputs": [
    {
     "data": {
      "text/plain": [
       "    MENTHLTH   ill   well  ill2  well2\n",
       "0        0.0  1963  15348   671  16640\n",
       "1        1.0   203    691    52    842\n",
       "2        2.0   392    886   119   1159\n",
       "3        3.0   275    463   115    623\n",
       "4        4.0   141    190    60    271\n",
       "5        5.0   361    489   204    646\n",
       "6        6.0    45     55    28     72\n",
       "7        7.0   157    142    87    212\n",
       "8        8.0    27     36    20     43\n",
       "9        9.0     8      3     5      6\n",
       "10      10.0   323    275   218    380\n",
       "11      11.0     4      1     1      4\n",
       "12      12.0    23     17    18     22\n",
       "13      13.0     2      1     1      2\n",
       "14      14.0    52     50    48     54\n",
       "15      15.0   327    192   275    244\n",
       "16      16.0     6      4     7      3\n",
       "17      17.0     4      3     2      5\n",
       "18      18.0     6      3     7      2\n",
       "19      19.0     1      1     0      2\n",
       "20      20.0   224     94   218    100\n",
       "21      21.0    20      9    22      7\n",
       "22      22.0     1      0     1      0\n",
       "23      23.0     2      1     3      0\n",
       "24      24.0     2      1     2      1\n",
       "25      25.0    79     28    74     33\n",
       "26      26.0     1      0     1      0\n",
       "27      27.0     3      4     1      6\n",
       "28      28.0    18      7    18      7\n",
       "29      29.0     7      6     5      8"
      ]
     },
     "execution_count": 21,
     "metadata": {},
     "output_type": "execute_result"
    }
   ],
   "source": [
    "grouped[['MENTHLTH','ill','well','ill2','well2']].head(30)"
   ]
  },
  {
   "cell_type": "code",
   "execution_count": 21,
   "metadata": {
    "collapsed": true
   },
   "outputs": [],
   "source": [
    "grouped.to_csv('fracvsdays_rednblue.csv')"
   ]
  },
  {
   "cell_type": "markdown",
   "metadata": {},
   "source": [
    "<hr style=\"height:1px\">"
   ]
  }
 ],
 "metadata": {
  "kernelspec": {
   "display_name": "Python 2",
   "language": "python",
   "name": "python2"
  },
  "language_info": {
   "codemirror_mode": {
    "name": "ipython",
    "version": 2
   },
   "file_extension": ".py",
   "mimetype": "text/x-python",
   "name": "python",
   "nbconvert_exporter": "python",
   "pygments_lexer": "ipython2",
   "version": "2.7.11"
  }
 },
 "nbformat": 4,
 "nbformat_minor": 0
}
